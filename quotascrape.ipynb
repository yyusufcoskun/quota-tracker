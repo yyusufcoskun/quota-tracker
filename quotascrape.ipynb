{
 "cells": [
  {
   "cell_type": "code",
   "execution_count": 1,
   "metadata": {},
   "outputs": [],
   "source": [
    "import pandas as pd\n",
    "\n",
    "quota = pd.read_html('quota.html', match= \"Quota\")"
   ]
  },
  {
   "cell_type": "code",
   "execution_count": 2,
   "metadata": {},
   "outputs": [
    {
     "name": "stdout",
     "output_type": "stream",
     "text": [
      "1\n"
     ]
    }
   ],
   "source": [
    "print(len(quota))"
   ]
  },
  {
   "cell_type": "code",
   "execution_count": 3,
   "metadata": {},
   "outputs": [
    {
     "data": {
      "text/html": [
       "<div>\n",
       "<style scoped>\n",
       "    .dataframe tbody tr th:only-of-type {\n",
       "        vertical-align: middle;\n",
       "    }\n",
       "\n",
       "    .dataframe tbody tr th {\n",
       "        vertical-align: top;\n",
       "    }\n",
       "\n",
       "    .dataframe thead th {\n",
       "        text-align: right;\n",
       "    }\n",
       "</style>\n",
       "<table border=\"1\" class=\"dataframe\">\n",
       "  <thead>\n",
       "    <tr style=\"text-align: right;\">\n",
       "      <th></th>\n",
       "      <th>0</th>\n",
       "      <th>1</th>\n",
       "      <th>2</th>\n",
       "      <th>3</th>\n",
       "      <th>4</th>\n",
       "    </tr>\n",
       "  </thead>\n",
       "  <tbody>\n",
       "    <tr>\n",
       "      <th>0</th>\n",
       "      <td>Departmental Quotas:</td>\n",
       "      <td>Departmental Quotas:</td>\n",
       "      <td>Departmental Quotas:</td>\n",
       "      <td>Departmental Quotas:</td>\n",
       "      <td>Departmental Quotas:</td>\n",
       "    </tr>\n",
       "    <tr>\n",
       "      <th>1</th>\n",
       "      <td>Department</td>\n",
       "      <td>Statu</td>\n",
       "      <td>Quota</td>\n",
       "      <td>Current</td>\n",
       "      <td>NaN</td>\n",
       "    </tr>\n",
       "    <tr>\n",
       "      <th>2</th>\n",
       "      <td>MANAGEMENT INFORMATION SYSTEMS</td>\n",
       "      <td>UNDERGRADUATE</td>\n",
       "      <td>Unlimited</td>\n",
       "      <td>71</td>\n",
       "      <td>NaN</td>\n",
       "    </tr>\n",
       "    <tr>\n",
       "      <th>3</th>\n",
       "      <td>MANAGEMENT INFORMATION SYSTEMS</td>\n",
       "      <td>OZELLISANS</td>\n",
       "      <td>2</td>\n",
       "      <td>1</td>\n",
       "      <td>NaN</td>\n",
       "    </tr>\n",
       "  </tbody>\n",
       "</table>\n",
       "</div>"
      ],
      "text/plain": [
       "                                0                     1                     2  \\\n",
       "0            Departmental Quotas:  Departmental Quotas:  Departmental Quotas:   \n",
       "1                      Department                 Statu                 Quota   \n",
       "2  MANAGEMENT INFORMATION SYSTEMS         UNDERGRADUATE             Unlimited   \n",
       "3  MANAGEMENT INFORMATION SYSTEMS            OZELLISANS                     2   \n",
       "\n",
       "                      3                     4  \n",
       "0  Departmental Quotas:  Departmental Quotas:  \n",
       "1               Current                   NaN  \n",
       "2                    71                   NaN  \n",
       "3                     1                   NaN  "
      ]
     },
     "execution_count": 3,
     "metadata": {},
     "output_type": "execute_result"
    }
   ],
   "source": [
    "df = quota[0]\n",
    "df.head()"
   ]
  },
  {
   "cell_type": "code",
   "execution_count": 4,
   "metadata": {},
   "outputs": [
    {
     "data": {
      "text/html": [
       "<div>\n",
       "<style scoped>\n",
       "    .dataframe tbody tr th:only-of-type {\n",
       "        vertical-align: middle;\n",
       "    }\n",
       "\n",
       "    .dataframe tbody tr th {\n",
       "        vertical-align: top;\n",
       "    }\n",
       "\n",
       "    .dataframe thead th {\n",
       "        text-align: right;\n",
       "    }\n",
       "</style>\n",
       "<table border=\"1\" class=\"dataframe\">\n",
       "  <thead>\n",
       "    <tr style=\"text-align: right;\">\n",
       "      <th></th>\n",
       "      <th>Department</th>\n",
       "      <th>Status</th>\n",
       "      <th>Quota</th>\n",
       "      <th>Current</th>\n",
       "      <th>a</th>\n",
       "    </tr>\n",
       "  </thead>\n",
       "  <tbody>\n",
       "    <tr>\n",
       "      <th>0</th>\n",
       "      <td>Departmental Quotas:</td>\n",
       "      <td>Departmental Quotas:</td>\n",
       "      <td>Departmental Quotas:</td>\n",
       "      <td>Departmental Quotas:</td>\n",
       "      <td>Departmental Quotas:</td>\n",
       "    </tr>\n",
       "    <tr>\n",
       "      <th>1</th>\n",
       "      <td>Department</td>\n",
       "      <td>Statu</td>\n",
       "      <td>Quota</td>\n",
       "      <td>Current</td>\n",
       "      <td>NaN</td>\n",
       "    </tr>\n",
       "    <tr>\n",
       "      <th>2</th>\n",
       "      <td>MANAGEMENT INFORMATION SYSTEMS</td>\n",
       "      <td>UNDERGRADUATE</td>\n",
       "      <td>Unlimited</td>\n",
       "      <td>71</td>\n",
       "      <td>NaN</td>\n",
       "    </tr>\n",
       "    <tr>\n",
       "      <th>3</th>\n",
       "      <td>MANAGEMENT INFORMATION SYSTEMS</td>\n",
       "      <td>OZELLISANS</td>\n",
       "      <td>2</td>\n",
       "      <td>1</td>\n",
       "      <td>NaN</td>\n",
       "    </tr>\n",
       "  </tbody>\n",
       "</table>\n",
       "</div>"
      ],
      "text/plain": [
       "                       Department                Status                 Quota  \\\n",
       "0            Departmental Quotas:  Departmental Quotas:  Departmental Quotas:   \n",
       "1                      Department                 Statu                 Quota   \n",
       "2  MANAGEMENT INFORMATION SYSTEMS         UNDERGRADUATE             Unlimited   \n",
       "3  MANAGEMENT INFORMATION SYSTEMS            OZELLISANS                     2   \n",
       "\n",
       "                Current                     a  \n",
       "0  Departmental Quotas:  Departmental Quotas:  \n",
       "1               Current                   NaN  \n",
       "2                    71                   NaN  \n",
       "3                     1                   NaN  "
      ]
     },
     "execution_count": 4,
     "metadata": {},
     "output_type": "execute_result"
    }
   ],
   "source": [
    "df.columns = ['Department', 'Status', \"Quota\", \"Current\",\"a\"]\n",
    "df.head()"
   ]
  },
  {
   "cell_type": "code",
   "execution_count": 5,
   "metadata": {},
   "outputs": [
    {
     "data": {
      "text/html": [
       "<div>\n",
       "<style scoped>\n",
       "    .dataframe tbody tr th:only-of-type {\n",
       "        vertical-align: middle;\n",
       "    }\n",
       "\n",
       "    .dataframe tbody tr th {\n",
       "        vertical-align: top;\n",
       "    }\n",
       "\n",
       "    .dataframe thead th {\n",
       "        text-align: right;\n",
       "    }\n",
       "</style>\n",
       "<table border=\"1\" class=\"dataframe\">\n",
       "  <thead>\n",
       "    <tr style=\"text-align: right;\">\n",
       "      <th></th>\n",
       "      <th>Department</th>\n",
       "      <th>Status</th>\n",
       "      <th>Quota</th>\n",
       "      <th>Current</th>\n",
       "    </tr>\n",
       "  </thead>\n",
       "  <tbody>\n",
       "    <tr>\n",
       "      <th>0</th>\n",
       "      <td>Departmental Quotas:</td>\n",
       "      <td>Departmental Quotas:</td>\n",
       "      <td>Departmental Quotas:</td>\n",
       "      <td>Departmental Quotas:</td>\n",
       "    </tr>\n",
       "    <tr>\n",
       "      <th>1</th>\n",
       "      <td>Department</td>\n",
       "      <td>Statu</td>\n",
       "      <td>Quota</td>\n",
       "      <td>Current</td>\n",
       "    </tr>\n",
       "    <tr>\n",
       "      <th>2</th>\n",
       "      <td>MANAGEMENT INFORMATION SYSTEMS</td>\n",
       "      <td>UNDERGRADUATE</td>\n",
       "      <td>Unlimited</td>\n",
       "      <td>71</td>\n",
       "    </tr>\n",
       "    <tr>\n",
       "      <th>3</th>\n",
       "      <td>MANAGEMENT INFORMATION SYSTEMS</td>\n",
       "      <td>OZELLISANS</td>\n",
       "      <td>2</td>\n",
       "      <td>1</td>\n",
       "    </tr>\n",
       "  </tbody>\n",
       "</table>\n",
       "</div>"
      ],
      "text/plain": [
       "                       Department                Status                 Quota  \\\n",
       "0            Departmental Quotas:  Departmental Quotas:  Departmental Quotas:   \n",
       "1                      Department                 Statu                 Quota   \n",
       "2  MANAGEMENT INFORMATION SYSTEMS         UNDERGRADUATE             Unlimited   \n",
       "3  MANAGEMENT INFORMATION SYSTEMS            OZELLISANS                     2   \n",
       "\n",
       "                Current  \n",
       "0  Departmental Quotas:  \n",
       "1               Current  \n",
       "2                    71  \n",
       "3                     1  "
      ]
     },
     "execution_count": 5,
     "metadata": {},
     "output_type": "execute_result"
    }
   ],
   "source": [
    "df.drop(\"a\",axis=1, inplace=True)\n",
    "df"
   ]
  },
  {
   "cell_type": "code",
   "execution_count": 6,
   "metadata": {},
   "outputs": [
    {
     "data": {
      "text/html": [
       "<div>\n",
       "<style scoped>\n",
       "    .dataframe tbody tr th:only-of-type {\n",
       "        vertical-align: middle;\n",
       "    }\n",
       "\n",
       "    .dataframe tbody tr th {\n",
       "        vertical-align: top;\n",
       "    }\n",
       "\n",
       "    .dataframe thead th {\n",
       "        text-align: right;\n",
       "    }\n",
       "</style>\n",
       "<table border=\"1\" class=\"dataframe\">\n",
       "  <thead>\n",
       "    <tr style=\"text-align: right;\">\n",
       "      <th></th>\n",
       "      <th>Department</th>\n",
       "      <th>Status</th>\n",
       "      <th>Quota</th>\n",
       "      <th>Current</th>\n",
       "    </tr>\n",
       "  </thead>\n",
       "  <tbody>\n",
       "    <tr>\n",
       "      <th>0</th>\n",
       "      <td>MANAGEMENT INFORMATION SYSTEMS</td>\n",
       "      <td>UNDERGRADUATE</td>\n",
       "      <td>Unlimited</td>\n",
       "      <td>71</td>\n",
       "    </tr>\n",
       "    <tr>\n",
       "      <th>1</th>\n",
       "      <td>MANAGEMENT INFORMATION SYSTEMS</td>\n",
       "      <td>OZELLISANS</td>\n",
       "      <td>2</td>\n",
       "      <td>1</td>\n",
       "    </tr>\n",
       "  </tbody>\n",
       "</table>\n",
       "</div>"
      ],
      "text/plain": [
       "                       Department         Status      Quota Current\n",
       "0  MANAGEMENT INFORMATION SYSTEMS  UNDERGRADUATE  Unlimited      71\n",
       "1  MANAGEMENT INFORMATION SYSTEMS     OZELLISANS          2       1"
      ]
     },
     "execution_count": 6,
     "metadata": {},
     "output_type": "execute_result"
    }
   ],
   "source": [
    "df.drop(labels=range(0,2), inplace=True)\n",
    "df = df.reset_index(drop=True)\n",
    "df"
   ]
  },
  {
   "cell_type": "code",
   "execution_count": 7,
   "metadata": {},
   "outputs": [],
   "source": [
    "# import requests\n",
    "# from bs4 import BeautifulSoup\n",
    " \n",
    " \n",
    "# url = 'https://registration.boun.edu.tr/scripts/sch.asp?donem=2022/2023-2&kisaadi=MIS&bolum=MANAGEMENT+INFORMATION+SYSTEMS'\n",
    "# reqs = requests.get(url)\n",
    "# soup = BeautifulSoup(reqs.text, 'html.parser')\n",
    " \n",
    "# urls = []\n",
    "# for link in soup.find_all('a'):\n",
    "#     print(link.get('href'))"
   ]
  },
  {
   "cell_type": "code",
   "execution_count": 8,
   "metadata": {},
   "outputs": [],
   "source": [
    "from selenium import webdriver\n",
    "from selenium.webdriver.common.by import By\n",
    "driver = webdriver.Chrome()\n",
    "driver.get(\"https://registration.boun.edu.tr/scripts/sch.asp?donem=2022/2023-2&kisaadi=MIS&bolum=MANAGEMENT+INFORMATION+SYSTEMS\")\n",
    "info_link = driver.find_element(By.LINK_TEXT,\"Info\")\n",
    "info_link.click()"
   ]
  }
 ],
 "metadata": {
  "kernelspec": {
   "display_name": "Python 3",
   "language": "python",
   "name": "python3"
  },
  "language_info": {
   "codemirror_mode": {
    "name": "ipython",
    "version": 3
   },
   "file_extension": ".py",
   "mimetype": "text/x-python",
   "name": "python",
   "nbconvert_exporter": "python",
   "pygments_lexer": "ipython3",
   "version": "3.11.1"
  },
  "orig_nbformat": 4,
  "vscode": {
   "interpreter": {
    "hash": "f0bad363c1ab195924145b0e1015c3c8417491041344e65ef2143b9ac911180d"
   }
  }
 },
 "nbformat": 4,
 "nbformat_minor": 2
}
